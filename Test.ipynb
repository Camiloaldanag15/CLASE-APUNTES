{
  "nbformat": 4,
  "nbformat_minor": 0,
  "metadata": {
    "colab": {
      "provenance": [],
      "authorship_tag": "ABX9TyP5IisgDL0dkGt9z6G0AMmC",
      "include_colab_link": true
    },
    "kernelspec": {
      "name": "python3",
      "display_name": "Python 3"
    },
    "language_info": {
      "name": "python"
    }
  },
  "cells": [
    {
      "cell_type": "markdown",
      "metadata": {
        "id": "view-in-github",
        "colab_type": "text"
      },
      "source": [
        "<a href=\"https://colab.research.google.com/github/Camiloaldanag15/CLASE-APUNTES/blob/main/Test.ipynb\" target=\"_parent\"><img src=\"https://colab.research.google.com/assets/colab-badge.svg\" alt=\"Open In Colab\"/></a>"
      ]
    },
    {
      "cell_type": "markdown",
      "source": [
        "# Archivo de prueba\n",
        "### Camilo Aldana\n",
        "### 000480904\n",
        "### camilo.aldanag@upb.edu.co"
      ],
      "metadata": {
        "id": "UY9KtI8J4pBR"
      }
    },
    {
      "cell_type": "code",
      "source": [
        "name = 'Camilo'\n",
        "#name = input(\"What's your name? \")\n",
        "#print(\"Hello \", name, \", welcome to Colab!\")"
      ],
      "metadata": {
        "colab": {
          "base_uri": "https://localhost:8080/"
        },
        "id": "gX2sG0_D5rop",
        "outputId": "347b541c-c384-43ac-ec3b-3f20768543de"
      },
      "execution_count": null,
      "outputs": [
        {
          "output_type": "stream",
          "name": "stdout",
          "text": [
            "Hello  Camilo , welcome to Colab!\n"
          ]
        }
      ]
    },
    {
      "cell_type": "code",
      "source": [
        "# Ejercicio en clase.\n",
        "\n",
        "# Lista vacía.\n",
        "\n",
        "junk_food = []\n",
        "\n",
        "#print(junk_food)\n",
        "\n",
        "# Agregando elementos.\n",
        "\n",
        "junk_food.append('Hot dog')\n",
        "\n",
        "#print(junk_food)\n",
        "\n",
        "junk_food.append('Burguer')\n",
        "\n",
        "junk_food.append('Pizza')\n",
        "\n",
        "#print(junk_food)\n",
        "\n",
        "#print(type(junk_food))\n",
        "\n",
        "snacks = [\"DeTodito\", \"Doritos\", \"Takis\"]\n",
        "\n",
        "#print(snacks)\n",
        "\n",
        "junk_food += snacks\n",
        "\n",
        "#print(junk_food)\n",
        "\n",
        "\n",
        "# Accediendo a los elementos.\n",
        "\n",
        "#print(junk_food)\n",
        "#print(junk_food[0])\n",
        "#print(junk_food[1])\n",
        "#print(junk_food[-1])\n",
        "#print(junk_food[-2])\n",
        "\n",
        "# Slicing\n",
        "#print(junk_food[1:4])\n",
        "\n",
        "#print(junk_food[:3])\n",
        "\n",
        "#print(junk_food[3:])\n",
        "\n",
        "#print(junk_food[-4:])\n",
        "\n",
        "#print(junk_food[:-2])\n",
        "\n",
        "# Modificar elementos.\n",
        "\n",
        "junk_food[-1] = \"Yupi\"\n",
        "junk_food[0] = \"Suizo\"\n",
        "\n",
        "#print(junk_food)\n",
        "\n",
        "# Remover elementos.\n",
        "\n",
        "#junk_food.remove(\"Detodito\")\n",
        "junk_food.remove(\"DeTodito\")\n",
        "#print(junk_food)\n",
        "\n",
        "# Insertar elementos.\n",
        "\n",
        "junk_food.insert(-1, \"Quipitos\")\n",
        "junk_food.insert(2, \"Choclitos\")\n",
        "\n",
        "#print(junk_food)\n",
        "\n",
        "# Pop.\n",
        "\n",
        "junk_food.pop()\n",
        "junk_food.pop()\n",
        "junk_food.pop(1)\n",
        "#print(junk_food)\n",
        "\n",
        "# Range.\n",
        "\n",
        "#print(list(range(10)))\n",
        "\n",
        "#print(list(range(3, 10)))\n",
        "\n",
        "#print(list(range(3, 10, 2)))\n",
        "\n",
        "#print(list(range(5, -10, -3)))\n",
        "\n",
        "#print(len(junk_food))\n",
        "\n",
        "#print(list(range(len(junk_food))))\n",
        "\n",
        "\n",
        "\n",
        "# Count.\n",
        "\n",
        "junk_food.append(\"Pizza\")\n",
        "junk_food.append(\"Pizza\")\n",
        "junk_food.append(\"Doritos\")\n",
        "junk_food.append(\"Hot Dog\")\n",
        "\n",
        "#print(junk_food.count(\"Pizza\"))\n",
        "#print(junk_food.count(\"Burguer\"))\n",
        "\n",
        "# Sorting.\n",
        "\n",
        "junk_food.sort()\n",
        "\n",
        "#print(junk_food)\n",
        "\n",
        "sorted_junk_food = sorted(junk_food)\n",
        "\n",
        "#print(sorted_junk_food)\n",
        "\n",
        "\n",
        "# Ciclos for.\n",
        "#print(junk_food)\n",
        "\n",
        "#for food in junk_food:\n",
        "#print(\"-\", food)\n",
        "\n",
        "for i in range(len(junk_food)):\n",
        "  pass\n",
        "  #print(i, \"-\", junk_food[1])\n",
        "\n",
        "\n",
        "# While.\n",
        "\n",
        "index = 0\n",
        "\n",
        "while index < len(junk_food):\n",
        "  #print(index, \"-\", junk_food[index])\n",
        "  index += 1\n",
        "\n",
        "\n",
        "# Break.\n",
        "\n",
        "#print(junk_food)\n",
        "\n",
        "request = \"Doritos\"\n",
        "\n",
        "for food in junk_food:\n",
        "  pass\n",
        "  #print(food)\n",
        "  if food == request:\n",
        "    #print(\"¡Encontrado!\")\n",
        "    break\n",
        "  \n",
        "\n",
        "# Continue.\n",
        "\n",
        "#request = \"Doritos\"\n",
        "\n",
        "#for food in junk_food:\n",
        "  #print(food)\n",
        "  #if food == request:\n",
        "    #continue\n",
        "  #else:\n",
        "    #print(food)\n",
        "\n",
        "# List comprehension.\n",
        "\n",
        "#print(junk_food)\n",
        "\n",
        "#print(len(junk_food[2]))\n",
        "#for food in junk_food:\n",
        " # print(len(food))\n",
        "\n",
        "#cant_letras = [len(food) for food in junk_food]\n",
        "#cant_letras = [len(food) for food in junk_food if food != \"Doritos\"]\n",
        "cant_letras = [len(food) if food == \"Pizza\" else 0 for food in junk_food]\n",
        "print(cant_letras)\n",
        "\n"
      ],
      "metadata": {
        "colab": {
          "base_uri": "https://localhost:8080/"
        },
        "id": "0u5IfWp_6Y2D",
        "outputId": "136c3dd6-249f-431a-ab0d-c5a3c414b3b4"
      },
      "execution_count": 65,
      "outputs": [
        {
          "output_type": "stream",
          "name": "stdout",
          "text": [
            "[0, 0, 0, 0, 5, 5, 5, 0]\n"
          ]
        }
      ]
    },
    {
      "cell_type": "code",
      "source": [
        "\n"
      ],
      "metadata": {
        "id": "O3TCIakE-ABx"
      },
      "execution_count": 47,
      "outputs": []
    },
    {
      "cell_type": "code",
      "source": [],
      "metadata": {
        "id": "C_UDzC4lH-q6"
      },
      "execution_count": null,
      "outputs": []
    }
  ]
}